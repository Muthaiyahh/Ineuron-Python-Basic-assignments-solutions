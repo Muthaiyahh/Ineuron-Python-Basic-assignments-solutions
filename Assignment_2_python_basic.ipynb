{
 "cells": [
  {
   "cell_type": "code",
   "execution_count": null,
   "id": "33925234-cbd6-4d88-8442-75f92c6a9dad",
   "metadata": {},
   "outputs": [],
   "source": [
    "#1.What are the two values of the Boolean data type? How do you write them?"
   ]
  },
  {
   "cell_type": "code",
   "execution_count": 1,
   "id": "8ad98205-23c1-4a2a-8170-9b14698df784",
   "metadata": {},
   "outputs": [],
   "source": [
    "#Below mentioned are the two values of the boolean data type.\n",
    "#True\n",
    "#False\n",
    "# Can be written as True and False, using capital T and F, with the rest of the word in lowercase\n",
    "#Internally Python represents True as 1 and False as 0"
   ]
  },
  {
   "cell_type": "code",
   "execution_count": null,
   "id": "c85157d5-103f-48ca-9264-b9944324831a",
   "metadata": {},
   "outputs": [],
   "source": [
    "#2. What are the three different types of Boolean operators?"
   ]
  },
  {
   "cell_type": "code",
   "execution_count": null,
   "id": "f79a7832-530f-4405-b57c-ee4f5fca64d6",
   "metadata": {},
   "outputs": [],
   "source": [
    "#The AND operator \n",
    "#The OR operator \n",
    "#The NOT operator"
   ]
  },
  {
   "cell_type": "code",
   "execution_count": null,
   "id": "02687c15-5daf-4783-8aac-94f62d1337a1",
   "metadata": {},
   "outputs": [],
   "source": [
    "#3. Make a list of each Boolean operator truth tables (i.e. every possible combination of Boolean\n",
    "#values for the operator and what it evaluate )."
   ]
  },
  {
   "cell_type": "code",
   "execution_count": null,
   "id": "582245c0-022e-4c82-99dd-f392d93fd265",
   "metadata": {},
   "outputs": [],
   "source": [
    "#AND Opeartor\n",
    "\n",
    "#1 represent true and 0 represent false here\n",
    "\n",
    "A\tB\tC\n",
    "1\t1\t1\n",
    "1\t0\t0\n",
    "0\t1\t0\n",
    "0\t0\t0\n",
    "\n",
    "#OR Operator\n",
    "\n",
    "A\tB\tC\n",
    "1\t1\t1\n",
    "1\t0\t1\n",
    "0\t1\t1\n",
    "0\t0\t0\n",
    "\n",
    "#NOT Operator\n",
    "\n",
    "#NOT --> The only Boolean operator with one argument\n",
    "\n",
    "A\t    not A\n",
    "1    \tFalse\n",
    "0   \tTrue\n",
    "\n",
    "\n"
   ]
  },
  {
   "cell_type": "code",
   "execution_count": 4,
   "id": "b439e047-4d07-4f21-8d68-6fd0e9e6af35",
   "metadata": {},
   "outputs": [
    {
     "data": {
      "text/plain": [
       "False"
      ]
     },
     "execution_count": 4,
     "metadata": {},
     "output_type": "execute_result"
    }
   ],
   "source": [
    "#4. What are the values of the following expressions?\n",
    "\n",
    "(5 > 4) and (3 == 5)"
   ]
  },
  {
   "cell_type": "code",
   "execution_count": 6,
   "id": "82619f06-73b8-42e8-9f22-42ac22c5e279",
   "metadata": {},
   "outputs": [
    {
     "data": {
      "text/plain": [
       "False"
      ]
     },
     "execution_count": 6,
     "metadata": {},
     "output_type": "execute_result"
    }
   ],
   "source": [
    "not (5 > 4)"
   ]
  },
  {
   "cell_type": "code",
   "execution_count": 8,
   "id": "67e09609-c248-4b29-a454-1e66dcbb600a",
   "metadata": {},
   "outputs": [
    {
     "data": {
      "text/plain": [
       "True"
      ]
     },
     "execution_count": 8,
     "metadata": {},
     "output_type": "execute_result"
    }
   ],
   "source": [
    "(5 > 4) or (3 == 5)"
   ]
  },
  {
   "cell_type": "code",
   "execution_count": 9,
   "id": "b5e3a44e-aba9-4b69-bd7c-0b9e3546107c",
   "metadata": {},
   "outputs": [
    {
     "data": {
      "text/plain": [
       "False"
      ]
     },
     "execution_count": 9,
     "metadata": {},
     "output_type": "execute_result"
    }
   ],
   "source": [
    "not ((5 > 4) or (3 == 5))"
   ]
  },
  {
   "cell_type": "code",
   "execution_count": 10,
   "id": "84a271d6-761a-43de-90eb-5a233c46ba12",
   "metadata": {},
   "outputs": [
    {
     "data": {
      "text/plain": [
       "False"
      ]
     },
     "execution_count": 10,
     "metadata": {},
     "output_type": "execute_result"
    }
   ],
   "source": [
    "(True and True) and (True == False)"
   ]
  },
  {
   "cell_type": "code",
   "execution_count": 11,
   "id": "035a579f-9c60-428f-b346-fd7fcc87bb48",
   "metadata": {},
   "outputs": [
    {
     "data": {
      "text/plain": [
       "True"
      ]
     },
     "execution_count": 11,
     "metadata": {},
     "output_type": "execute_result"
    }
   ],
   "source": [
    "(not False) or (not True)"
   ]
  },
  {
   "cell_type": "code",
   "execution_count": null,
   "id": "a60f448e-9207-4b6b-8640-56c99b738f37",
   "metadata": {},
   "outputs": [],
   "source": [
    "#5. What are the six comparison operators?\n",
    "\n",
    "Less than(<)\n",
    "Greater than(>)\n",
    "Equal to(==)\n",
    "Less than or equal to(<=)\n",
    "Greater than or  equal to(>=)\n",
    "Not equal to(!=)"
   ]
  },
  {
   "cell_type": "code",
   "execution_count": 12,
   "id": "eecbeb72-f37e-459f-ae20-7e7d82d5c7e9",
   "metadata": {},
   "outputs": [],
   "source": [
    "#6. How do you tell the difference between the equal to and assignment operators?Describe a condition and when you would use one."
   ]
  },
  {
   "cell_type": "code",
   "execution_count": 13,
   "id": "c04bb5d3-9bd6-479c-865c-e5383201b865",
   "metadata": {},
   "outputs": [],
   "source": [
    "#The equal to operator \"==\" is used to compare two values to see if they are equal to each other, while the assignment operator \"=\" is used to \n",
    "#assign a value to a variable."
   ]
  },
  {
   "cell_type": "code",
   "execution_count": 14,
   "id": "cbbb9b26-9e4a-47a8-81f6-f8f6c1417dc1",
   "metadata": {},
   "outputs": [
    {
     "name": "stdout",
     "output_type": "stream",
     "text": [
      "The value of x is 5\n"
     ]
    }
   ],
   "source": [
    "#Example,\n",
    "x = 5\n",
    "if x==5:\n",
    "    print(\"The value of x is 5\")"
   ]
  },
  {
   "cell_type": "code",
   "execution_count": 20,
   "id": "fecd8fd8-74a5-4382-a696-d005d527ba9c",
   "metadata": {},
   "outputs": [
    {
     "name": "stdout",
     "output_type": "stream",
     "text": [
      "ham\n",
      "spam\n",
      "spam\n"
     ]
    }
   ],
   "source": [
    "#7. Identify the three blocks in this code:\n",
    "spam = 0\n",
    "if spam == 10:\n",
    "    print('eggs')\n",
    "if spam > 5:\n",
    "    print('bacon')\n",
    "else:\n",
    "    print('ham')\n",
    "    print('spam')\n",
    "    print('spam')"
   ]
  },
  {
   "cell_type": "code",
   "execution_count": null,
   "id": "149caf14-81c2-4b56-bd4b-56c048f43818",
   "metadata": {},
   "outputs": [],
   "source": [
    "#indented block after 'if' statement on line 3, 5 , 7, 8, 9. Hve corrected it now..."
   ]
  },
  {
   "cell_type": "code",
   "execution_count": null,
   "id": "d5c375b7-82f0-46cb-b239-219cda2718c3",
   "metadata": {},
   "outputs": [],
   "source": [
    "#8. Write code that prints Hello if 1 is stored in spam, prints Howdy if 2 is stored in spam, and prints\n",
    "#Greetings! if anything else is stored in spam."
   ]
  },
  {
   "cell_type": "code",
   "execution_count": 21,
   "id": "fd7ab42b-e149-411d-b85c-64186e3389a5",
   "metadata": {},
   "outputs": [
    {
     "name": "stdout",
     "output_type": "stream",
     "text": [
      "Howdy\n"
     ]
    }
   ],
   "source": [
    "spam = 2\n",
    "\n",
    "if spam == 1:\n",
    "    print(\"Hello\")\n",
    "elif spam == 2:\n",
    "    print(\"Howdy\")\n",
    "else:\n",
    "    print(\"Greetings!\")"
   ]
  },
  {
   "cell_type": "code",
   "execution_count": null,
   "id": "a2e57863-dc23-421e-ac7d-cc7b022e0267",
   "metadata": {},
   "outputs": [],
   "source": [
    "#9.If your programme is stuck in an endless loop, what keys you’ll press?"
   ]
  },
  {
   "cell_type": "code",
   "execution_count": 22,
   "id": "903185de-7b59-4523-a102-02e045683f95",
   "metadata": {},
   "outputs": [],
   "source": [
    "#If a program is stuck in an endless loop, you can press Ctrl + C (the Control key and the C key at the same time) on your keyboard to send an interrupt signal to the program.\n",
    "#This should stop the program from running --> On some systems, you may need to press Ctrl + Break or Ctrl + Z instead."
   ]
  },
  {
   "cell_type": "code",
   "execution_count": 23,
   "id": "d73f14c0-647e-45cd-9a3d-ea5a83402d6c",
   "metadata": {},
   "outputs": [],
   "source": [
    "#10. How can you tell the difference between break and continue?"
   ]
  },
  {
   "cell_type": "code",
   "execution_count": 24,
   "id": "6d1d710a-f657-4b5b-89dd-8a0a01af71da",
   "metadata": {},
   "outputs": [
    {
     "name": "stdout",
     "output_type": "stream",
     "text": [
      "1\n",
      "2\n"
     ]
    }
   ],
   "source": [
    "# Example of break statement\n",
    "for i in range(1, 6):\n",
    "    if i == 3:\n",
    "        break\n",
    "    print(i)"
   ]
  },
  {
   "cell_type": "code",
   "execution_count": 25,
   "id": "b1d65f41-c4fe-4a68-a976-027762676bac",
   "metadata": {},
   "outputs": [
    {
     "name": "stdout",
     "output_type": "stream",
     "text": [
      "1\n",
      "2\n",
      "4\n",
      "5\n"
     ]
    }
   ],
   "source": [
    "# Example of continue statement\n",
    "for i in range(1, 6):\n",
    "    if i == 3:\n",
    "        continue\n",
    "    print(i)"
   ]
  },
  {
   "cell_type": "code",
   "execution_count": 26,
   "id": "b699a227-8402-4a67-be4b-9abc30c5b804",
   "metadata": {},
   "outputs": [],
   "source": [
    "#In the first example, the break statement is used to exit the loop when the value of i becomes 3, and the program control moves to the statement immediately following the loop.\n",
    "#In the second example, the continue statement is used to skip the value of i when it's 3, and the loop continues with the next value of i."
   ]
  },
  {
   "cell_type": "code",
   "execution_count": null,
   "id": "87432f88-bcf9-4a4f-8364-47bc9f4fa7d1",
   "metadata": {},
   "outputs": [],
   "source": [
    "#11. In a for loop, what is the difference between range(10), range(0, 10), and range(0, 10, 1)?"
   ]
  },
  {
   "cell_type": "code",
   "execution_count": null,
   "id": "de8d397b-b2da-4150-b8d4-b8fcf05fc9f3",
   "metadata": {},
   "outputs": [],
   "source": [
    "# All these three fn will give you the same outputs, No differnce incase of outputs, Only difference here, how the fn called..."
   ]
  },
  {
   "cell_type": "code",
   "execution_count": 27,
   "id": "5bf1533e-d958-4f50-89fa-1f324615a86c",
   "metadata": {},
   "outputs": [
    {
     "name": "stdout",
     "output_type": "stream",
     "text": [
      "0\n",
      "1\n",
      "2\n",
      "3\n",
      "4\n",
      "5\n",
      "6\n",
      "7\n",
      "8\n",
      "9\n"
     ]
    }
   ],
   "source": [
    "for i in range(10):\n",
    "    print(i)\n"
   ]
  },
  {
   "cell_type": "code",
   "execution_count": 28,
   "id": "f177a3d4-0e61-4ff3-b1b7-f0ca48ab4ce6",
   "metadata": {},
   "outputs": [
    {
     "name": "stdout",
     "output_type": "stream",
     "text": [
      "0\n",
      "1\n",
      "2\n",
      "3\n",
      "4\n",
      "5\n",
      "6\n",
      "7\n",
      "8\n",
      "9\n"
     ]
    }
   ],
   "source": [
    "for i in range(0, 10):\n",
    "    print(i)"
   ]
  },
  {
   "cell_type": "code",
   "execution_count": 29,
   "id": "a97cc262-bb35-4c5b-924b-4814b82e2f1a",
   "metadata": {},
   "outputs": [
    {
     "name": "stdout",
     "output_type": "stream",
     "text": [
      "0\n",
      "1\n",
      "2\n",
      "3\n",
      "4\n",
      "5\n",
      "6\n",
      "7\n",
      "8\n",
      "9\n"
     ]
    }
   ],
   "source": [
    "for i in range(0, 10, 1):\n",
    "    print(i)"
   ]
  },
  {
   "cell_type": "code",
   "execution_count": null,
   "id": "b9956103-161d-4a5b-a2bd-5599c5ac1998",
   "metadata": {},
   "outputs": [],
   "source": [
    "#12. Write a short program that prints the numbers 1 to 10 using a for loop. Then write an equivalent program that prints the numbers 1 to 10 using a while loop."
   ]
  },
  {
   "cell_type": "code",
   "execution_count": 2,
   "id": "18ed5b8f-4e8d-411a-81d3-00007e83a8db",
   "metadata": {},
   "outputs": [
    {
     "name": "stdout",
     "output_type": "stream",
     "text": [
      "1\n",
      "2\n",
      "3\n",
      "4\n",
      "5\n",
      "6\n",
      "7\n",
      "8\n",
      "9\n",
      "10\n"
     ]
    }
   ],
   "source": [
    "for i in range(1,11):\n",
    "    print(i)"
   ]
  },
  {
   "cell_type": "code",
   "execution_count": 1,
   "id": "bdbc661c-5dfa-4f55-8357-b03cc484039c",
   "metadata": {},
   "outputs": [
    {
     "name": "stdout",
     "output_type": "stream",
     "text": [
      "1\n",
      "2\n",
      "3\n",
      "4\n",
      "5\n",
      "6\n",
      "7\n",
      "8\n",
      "9\n",
      "10\n"
     ]
    }
   ],
   "source": [
    "i = 1\n",
    "while i <= 10:\n",
    "    print(i)\n",
    "    i += 1\n",
    "    \n",
    "#The loop starts with an initial value of i equal to 1, and the loop continues as long as the value of i is less than or equal to 10. Inside the loop,\n",
    "#the current value of i is printed to the console using the print() function, and then i is incremented by 1 using the += operator. \n",
    "#This process repeats until the value of i is greater than 10, at which point the loop terminates."
   ]
  },
  {
   "cell_type": "code",
   "execution_count": null,
   "id": "600b6a7a-db8a-4443-a5e6-fd15b5ba2dec",
   "metadata": {},
   "outputs": [],
   "source": [
    "#13. If you had a function named bacon() inside a module named spam, how would you call it after importing spam?"
   ]
  },
  {
   "cell_type": "code",
   "execution_count": null,
   "id": "a45cd6d4-3017-4c41-9932-746abc3b6e36",
   "metadata": {},
   "outputs": [],
   "source": [
    "import spam\n",
    "\n",
    "spam.bacon()\n",
    "\n",
    "#This will import the spam module and call the bacon() function inside it. The . notation is used to reference the bacon() function inside the spam module."
   ]
  }
 ],
 "metadata": {
  "kernelspec": {
   "display_name": "Python 3 (ipykernel)",
   "language": "python",
   "name": "python3"
  },
  "language_info": {
   "codemirror_mode": {
    "name": "ipython",
    "version": 3
   },
   "file_extension": ".py",
   "mimetype": "text/x-python",
   "name": "python",
   "nbconvert_exporter": "python",
   "pygments_lexer": "ipython3",
   "version": "3.10.6"
  }
 },
 "nbformat": 4,
 "nbformat_minor": 5
}
