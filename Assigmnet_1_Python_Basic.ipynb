{
 "cells": [
  {
   "cell_type": "code",
   "execution_count": null,
   "id": "1fb52729-b550-4873-89dd-ee130ad2ef16",
   "metadata": {},
   "outputs": [],
   "source": [
    "#1. In the below elements which of them are values or an expression? eg:- values can be integer or string and expressions will be mathematical operators.\n",
    "*\n",
    "'hello'\n",
    "-87.8\n",
    "-\n",
    "/\n",
    "+\n",
    "6"
   ]
  },
  {
   "cell_type": "code",
   "execution_count": null,
   "id": "1f1654d3-b572-4e6a-827f-b409e8ad130e",
   "metadata": {},
   "outputs": [],
   "source": [
    "Values: - *, 'hello\", 6, -87.8\n",
    "Expressions: -  -, +, /"
   ]
  },
  {
   "cell_type": "code",
   "execution_count": null,
   "id": "2abe20d2-d9bd-498f-9abe-78a39d301705",
   "metadata": {},
   "outputs": [],
   "source": [
    "#2. What is the difference between string and variable?"
   ]
  },
  {
   "cell_type": "code",
   "execution_count": null,
   "id": "cfbbee14-527e-47fa-8551-e53305e58219",
   "metadata": {},
   "outputs": [],
   "source": [
    "String is a character which can expressed in alphabets or in some special characeters."
   ]
  },
  {
   "cell_type": "code",
   "execution_count": null,
   "id": "1a2f0c36-844a-4e04-b320-1a3ac0a22357",
   "metadata": {},
   "outputs": [],
   "source": [
    "#3. Describe three different data types."
   ]
  },
  {
   "cell_type": "code",
   "execution_count": null,
   "id": "a3d0f2c6-0b09-4184-82eb-cc71a7c451d7",
   "metadata": {},
   "outputs": [],
   "source": [
    "# String g = \"Hello world3!\"\n",
    "# float u = 89.78\n",
    "# integer i = 987\n",
    "# complex j = 6+8k"
   ]
  },
  {
   "cell_type": "code",
   "execution_count": null,
   "id": "4c489c86-2e45-4230-a44e-592bd791819c",
   "metadata": {},
   "outputs": [],
   "source": [
    "#4. What is an expression made up of? What do all expressions do?"
   ]
  },
  {
   "cell_type": "code",
   "execution_count": null,
   "id": "74841fbb-1a59-4703-81e2-248f9bef6a61",
   "metadata": {},
   "outputs": [],
   "source": [
    "An expression is a combination of operators, constants and variables.\n",
    "An expression may consist of one or more operands, and zero or more operators to produce a value.\n",
    "\n",
    "a = 3\n",
    "b = 5\n",
    "c = 6\n",
    "result = a + b * c\n",
    "\n",
    "# result --> variable to store the expression value, a,b,c --> Operand  +,* --> Operators"
   ]
  },
  {
   "cell_type": "code",
   "execution_count": null,
   "id": "6d219efe-f904-494c-ae4b-b16d322dffc9",
   "metadata": {},
   "outputs": [],
   "source": [
    "# 5. This assignment statements, like spam = 10. What is the difference between an expression and a statement?"
   ]
  },
  {
   "cell_type": "code",
   "execution_count": 5,
   "id": "2479a889-48e1-4efd-98ff-493e4aca57a9",
   "metadata": {},
   "outputs": [],
   "source": [
    "#In programming, an expression is a value, or anything that executes and ends up being a value.\n",
    "#spam = 10 --> Whole of this code itself an statement,because it carries out the task of assigning 10 to spam.\n",
    "\n",
    "#E.g: - print(\"hello world\")\n",
    "\n",
    "#In this,\n",
    " #print(\"hello world\") ---> It is an statement.\n",
    " #\"hello world\" ----> It is an expression.\n",
    "    \n",
    "    "
   ]
  },
  {
   "cell_type": "code",
   "execution_count": 2,
   "id": "e4a0bbcc-9e5c-4b75-a776-b843db1b089b",
   "metadata": {},
   "outputs": [
    {
     "data": {
      "text/plain": [
       "23"
      ]
     },
     "execution_count": 2,
     "metadata": {},
     "output_type": "execute_result"
    }
   ],
   "source": [
    "#6. After running the following code, what does the variable bacon contain?\n",
    "bacon = 22\n",
    "bacon + 1"
   ]
  },
  {
   "cell_type": "code",
   "execution_count": null,
   "id": "8d416b02-ac58-46d7-abae-f4f861e6662d",
   "metadata": {},
   "outputs": [],
   "source": [
    "#Ans: - 23"
   ]
  },
  {
   "cell_type": "code",
   "execution_count": 4,
   "id": "bb0e26b1-dd5c-4f21-9182-29d6b867bf8c",
   "metadata": {},
   "outputs": [
    {
     "data": {
      "text/plain": [
       "'spamspamspam'"
      ]
     },
     "execution_count": 4,
     "metadata": {},
     "output_type": "execute_result"
    }
   ],
   "source": [
    "#7. What should the values of the following two terms be?\n",
    "'spam' + 'spamspam'\n"
   ]
  },
  {
   "cell_type": "code",
   "execution_count": 5,
   "id": "dbe003c5-e464-488e-b8fd-f2b92b60febe",
   "metadata": {},
   "outputs": [
    {
     "data": {
      "text/plain": [
       "'spamspamspam'"
      ]
     },
     "execution_count": 5,
     "metadata": {},
     "output_type": "execute_result"
    }
   ],
   "source": [
    "'spam'*3"
   ]
  },
  {
   "cell_type": "code",
   "execution_count": null,
   "id": "e6f4dbb7-eb14-4523-8de9-1dcaa6587436",
   "metadata": {},
   "outputs": [],
   "source": [
    "#8. Why is eggs a valid variable name while 100 is invalid?"
   ]
  },
  {
   "cell_type": "code",
   "execution_count": null,
   "id": "34d6fb3b-6b0c-4ac9-8d49-a549ad9782b1",
   "metadata": {},
   "outputs": [],
   "source": [
    "Because variable names cannot begin with a number."
   ]
  },
  {
   "cell_type": "code",
   "execution_count": null,
   "id": "58296da4-83d5-4064-bff7-b9a506847e5d",
   "metadata": {},
   "outputs": [],
   "source": [
    "#9. What three functions can be used to get the integer, floating-point number, or string\n",
    "version of a value?"
   ]
  },
  {
   "cell_type": "code",
   "execution_count": null,
   "id": "d77e9891-8f91-49d4-b83b-8b5d6c06fefe",
   "metadata": {},
   "outputs": [],
   "source": [
    "int() --> Integer\n",
    "float() ---> Floating point number\n",
    "str() --> Character"
   ]
  },
  {
   "cell_type": "code",
   "execution_count": null,
   "id": "07be7e84-93c8-4b95-b768-8b439ccce4ff",
   "metadata": {},
   "outputs": [],
   "source": [
    "#10. Why does this expression cause an error? How can you fix it?\n",
    "'I have eaten' + 99 +  'burritos'"
   ]
  },
  {
   "cell_type": "code",
   "execution_count": 4,
   "id": "f1da825f-53f3-4c8e-8576-0808d4352ee5",
   "metadata": {},
   "outputs": [
    {
     "data": {
      "text/plain": [
       "'I have eaten 99 burritos'"
      ]
     },
     "execution_count": 4,
     "metadata": {},
     "output_type": "execute_result"
    }
   ],
   "source": [
    "#Because 99 is not str . It is an integer. we can only concatenate only strings. So, in order to make this correct. \n",
    "#We have to mention 99 within quotes. E.g : - '99'\n",
    "'I have eaten' + ' 99 '+  'burritos'"
   ]
  }
 ],
 "metadata": {
  "kernelspec": {
   "display_name": "Python 3 (ipykernel)",
   "language": "python",
   "name": "python3"
  },
  "language_info": {
   "codemirror_mode": {
    "name": "ipython",
    "version": 3
   },
   "file_extension": ".py",
   "mimetype": "text/x-python",
   "name": "python",
   "nbconvert_exporter": "python",
   "pygments_lexer": "ipython3",
   "version": "3.10.6"
  }
 },
 "nbformat": 4,
 "nbformat_minor": 5
}
